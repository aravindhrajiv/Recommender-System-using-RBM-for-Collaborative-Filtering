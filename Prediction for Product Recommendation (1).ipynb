{
 "cells": [
  {
   "cell_type": "code",
   "execution_count": 1,
   "metadata": {},
   "outputs": [],
   "source": [
    "import numpy as np\n",
    "import pandas as pd\n",
    "import json\n",
    "import pickle\n",
    "import matplotlib.pyplot as plt\n",
    "from pandas.api.types import CategoricalDtype\n",
    "\n",
    "import torch\n",
    "\n",
    "from sklearn import preprocessing\n",
    "from sklearn.metrics import precision_score, recall_score, f1_score\n",
    "from sklearn.model_selection import train_test_split\n",
    "from sklearn.ensemble import RandomForestClassifier\n",
    "\n",
    "import warnings\n",
    "warnings.filterwarnings(\"ignore\")"
   ]
  },
  {
   "cell_type": "code",
   "execution_count": 2,
   "metadata": {},
   "outputs": [],
   "source": [
    "unique_var = ['Customer_ID']\n",
    "cont_var = ['Age','Relnshp_Mnths','Gross_household_income']\n",
    "cate_var = ['Employee_Index','Sex','New_customer','Relnshp_flag','Cust_type_beg_Mth','Cust_Reln_type_beg_mth','Residence_flag',\n",
    "            'Foreigner_flag','Emp_spouse_flag','Deceased_flag','Address_type','Activity_flag','Segment']\n",
    "cate_var_date = ['Month_status_date','Join_date','Last_date_Prim_Cust']\n",
    "cate_var_big = ['Customer_country','Channel_when_joined','Customer_address','Address_detail']\n",
    "cate_var_int = ['New_customer','Relnshp_flag','Activity_flag','Address_type']\n",
    "target_var = ['Saving_account','Guarantees','Cur_account','Derivative_account','Payroll_account','Junior_account','Particular_acct1',\n",
    "              'Particular_acct2','Particular_acct3','Short_term_deposites','Med_term_deposites','Long_term_deposites','e-account', \n",
    "              'Funds','Mortgage','Pension','Loans','Taxes','Credit_card','Securities','Home_account','Payroll','Pensions','Direct_debit']\n",
    "str_ = ['Employee_Index','Customer_country','Sex','New_customer','Relnshp_flag','Cust_type_beg_Mth','Cust_Reln_type_beg_mth',\n",
    "            'Residence_flag','Foreigner_flag', 'Emp_spouse_flag', 'Channel_when_joined','Address_type','Deceased_flag','Customer_address',\n",
    "            'Address_detail','Activity_flag','Segment']\n",
    "tar_var_sp = ['ind_ahor_fin_ult1','ind_aval_fin_ult1','ind_cco_fin_ult1','ind_cder_fin_ult1','ind_cno_fin_ult1','ind_ctju_fin_ult1',\n",
    "              'ind_ctma_fin_ult1','ind_ctop_fin_ult1','ind_ctpp_fin_ult1','ind_deco_fin_ult1','ind_deme_fin_ult1','ind_dela_fin_ult1',\n",
    "              'ind_ecue_fin_ult1','ind_fond_fin_ult1','ind_hip_fin_ult1','ind_plan_fin_ult1','ind_pres_fin_ult1','ind_reca_fin_ult1',\n",
    "              'ind_tjcr_fin_ult1','ind_valo_fin_ult1','ind_viv_fin_ult1','ind_nomina_ult1','ind_nom_pens_ult1','ind_recibo_ult1']"
   ]
  },
  {
   "cell_type": "code",
   "execution_count": 3,
   "metadata": {},
   "outputs": [],
   "source": [
    "class RBM():\n",
    "    def __init__(self, nv, nh, r):\n",
    "        self.W = torch.randn(r, nh, nv)*0.1\n",
    "        self.a = torch.randn(1,1,nh)*0.01\n",
    "        self.b = torch.randn(1,1,nv)*0.01\n",
    "        \n",
    "    def sample_h(self,x):\n",
    "        wx = torch.matmul(x.permute(2,0,1), self.W.permute(0,2,1))\n",
    "        activation = wx + self.a.expand_as(wx)\n",
    "        p = torch.sigmoid(activation)\n",
    "        return p, p.bernoulli()\n",
    "\n",
    "    def sample_v(self,y):\n",
    "        wy = torch.matmul(y, self.W)\n",
    "        activation = wy + self.b.expand_as(wy)\n",
    "        p = torch.sigmoid(activation.permute(1,2,0))\n",
    "        return p, p.bernoulli()\n",
    "    \n",
    "    def train_rbm_fn(self,v0,vk,ph0,phk,batch_size,learning_rate = 0.0000001):\n",
    "        self.W += learning_rate * (torch.matmul(v0.permute(2,1,0),ph0) - torch.matmul(vk.permute(2,1,0), phk)).permute(0,2,1)/ batch_size\n",
    "        self.b += learning_rate * torch.sum(torch.sum((v0-vk).permute(2,0,1),1),0)/ batch_size\n",
    "        self.a += learning_rate * torch.sum(torch.sum((ph0-phk),1),0)/ batch_size\n",
    "    \n",
    "    def free_energy(self, v):\n",
    "        v_term = -torch.sum(torch.matmul(v.permute(2,0,1), self.b.permute(0,2,1)),dim=1)\n",
    "        wx = torch.matmul(v.permute(2,0,1), self.W.permute(0,2,1))\n",
    "        w_x_h = wx + self.a.expand_as(wx)\n",
    "        h_term = -torch.sum(torch.sum(F.softplus(w_x_h),dim=2),dim=1)\n",
    "        fe = torch.mean((h_term+v_term))\n",
    "        return fe"
   ]
  },
  {
   "cell_type": "code",
   "execution_count": 4,
   "metadata": {},
   "outputs": [],
   "source": [
    "clf = [None]*len(target_var)\n",
    "for ind, var in enumerate(target_var):\n",
    "        # Loading the classifier\n",
    "        clf[ind] = pickle.load(open('Trained Model/Random Forest_trial/'+str(var), 'rb'))\n",
    "\n",
    "# load the model from disk\n",
    "filename = 'Trained Model/RBM/rbm_model.sav'\n",
    "rbm = pickle.load(open(filename, 'rb'))"
   ]
  },
  {
   "cell_type": "code",
   "execution_count": 5,
   "metadata": {},
   "outputs": [],
   "source": [
    "def store_data():\n",
    "    \n",
    "    dtype_list = {'fecha_dato': 'object', 'ncodpers': 'int64', 'ind_empleado': 'str','pais_residencia':'str', 'sexo':'str', 'age': 'int64', 'fecha_alta': 'object',\n",
    "                'ind_nuevo': 'str', 'antiguedad':'int64', 'indrel': 'int32','ult_fec_cli_1t': 'object','indrel_1mes': 'int32', 'tiprel_1mes':'str','indresi': 'str',\n",
    "                'indext': 'str','conyuemp': 'str', 'canal_entrada':'str','indfall': 'str','tipodom':'int32', 'cod_prov':'int64','nomprov': 'str','ind_actividad_cliente': 'int32',\n",
    "                'renta': 'float64', 'segmento' :'str','ind_cco_fin_ult1': 'int16', 'ind_deme_fin_ult1': 'int16', 'ind_aval_fin_ult1': 'int16', 'ind_valo_fin_ult1': 'int16', \n",
    "                'ind_reca_fin_ult1': 'int16', 'ind_ctju_fin_ult1': 'int16','ind_cder_fin_ult1': 'int16', 'ind_plan_fin_ult1': 'int16', 'ind_fond_fin_ult1': 'int16',\n",
    "                'ind_hip_fin_ult1': 'int16', 'ind_pres_fin_ult1': 'int16', 'ind_nomina_ult1': 'int16', 'ind_cno_fin_ult1': 'int16','ind_ctpp_fin_ult1': 'int16', \n",
    "                'ind_ahor_fin_ult1': 'int16', 'ind_dela_fin_ult1': 'int16', 'ind_ecue_fin_ult1': 'int16', 'ind_nom_pens_ult1': 'int16', 'ind_recibo_ult1': 'int16', \n",
    "                'ind_deco_fin_ult1': 'int16', 'ind_tjcr_fin_ult1': 'int16', 'ind_ctop_fin_ult1': 'int16', 'ind_viv_fin_ult1': 'int16', 'ind_ctma_fin_ult1': 'int16'}\n",
    "    train_0 = pd.read_csv(\"Dataset/reference_sample_001.csv\",header = None,dtype = dtype_list,na_values = 'NA')\n",
    "    train_0.columns = ['Month_status_date', 'Customer_ID', 'Employee_Index', 'Customer_country', 'Sex', 'Age', 'Join_date',\n",
    "                'New_customer', 'Relnshp_Mnths', 'Relnshp_flag','Last_date_Prim_Cust', 'Cust_type_beg_Mth', 'Cust_Reln_type_beg_mth',\n",
    "                'Residence_flag', 'Foreigner_flag', 'Emp_spouse_flag', 'Channel_when_joined', 'Deceased_flag', \n",
    "                'Address_type', 'Customer_address', 'Address_detail', 'Activity_flag', 'Gross_household_income',\n",
    "                'Segment', 'Saving_account', 'Guarantees', 'Cur_account', 'Derivative_account', 'Payroll_account',\n",
    "                'Junior_account', 'Particular_acct1', 'Particular_acct2', 'Particular_acct3', 'Short_term_deposites',\n",
    "                'Med_term_deposites', 'Long_term_deposites', 'e-account', 'Funds', 'Mortgage', 'Pension', 'Loans',\n",
    "                'Taxes', 'Credit_card', 'Securities', 'Home_account', 'Payroll', 'Pensions', 'Direct_debit']\n",
    "    train_1= train_0[1:]\n",
    "    \n",
    "    return train_1    "
   ]
  },
  {
   "cell_type": "code",
   "execution_count": 6,
   "metadata": {},
   "outputs": [],
   "source": [
    "def user_data(input_0):\n",
    "    \n",
    "    input_0.columns = ['Month_status_date', 'Customer_ID', 'Employee_Index', 'Customer_country', 'Sex', 'Age', 'Join_date',\n",
    "                'New_customer', 'Relnshp_Mnths', 'Relnshp_flag','Last_date_Prim_Cust', 'Cust_type_beg_Mth', 'Cust_Reln_type_beg_mth',\n",
    "                'Residence_flag', 'Foreigner_flag', 'Emp_spouse_flag', 'Channel_when_joined', 'Deceased_flag', \n",
    "                'Address_type', 'Customer_address', 'Address_detail', 'Activity_flag', 'Gross_household_income','Segment']\n",
    "    train_1 = store_data()\n",
    "    if(int(input_0['Customer_ID'].values.item()) in train_1['Customer_ID'].values):\n",
    "        a = train_1[train_1['Customer_ID'] == int(input_0['Customer_ID'].values.item())]\n",
    "        print('Old User')\n",
    "        recommendation = old_user(a[a.columns[24:]],input_0)\n",
    "    else:\n",
    "        a = pp(input_0)\n",
    "        print('New User')\n",
    "        recommendation = new_user(a,input_0)\n",
    "    \n",
    "    return recommendation"
   ]
  },
  {
   "cell_type": "code",
   "execution_count": 7,
   "metadata": {},
   "outputs": [],
   "source": [
    "def pp(test_1):\n",
    "    \n",
    "    for ind_, var_ in enumerate(cont_var):\n",
    "        test_1[var_] = pd.to_numeric(test_1[var_].astype(float).astype(int),errors='coerce')\n",
    "    for ind, var in enumerate(cate_var_int): \n",
    "        test_1[var] = test_1[var].astype(float).astype(int)\n",
    "    \n",
    "    \n",
    "    # string to categorical\n",
    "    test_1[str_] = test_1[str_].astype('category')\n",
    "    # Dropping Data columns\n",
    "    test_1.drop(columns=cate_var_date,inplace=True)\n",
    "    \n",
    "    le = preprocessing.OneHotEncoder(sparse=False)\n",
    "    for column_name in str_:\n",
    "        test_1[column_name] = le.fit_transform(np.array(test_1[column_name].astype(str)).reshape(-1,1)).astype(float)\n",
    "    \n",
    "    return test_1    "
   ]
  },
  {
   "cell_type": "code",
   "execution_count": 8,
   "metadata": {},
   "outputs": [],
   "source": [
    "def old_user(t1,input_0):\n",
    "    \n",
    "    test_rbm = np.array(t1)\n",
    "    test_rbm = np.reshape(test_rbm, (-1,24,1))\n",
    "    test_rbm = torch.FloatTensor(test_rbm)\n",
    "    \n",
    "    rbm_preds = rbm_model(rbm,test_rbm)\n",
    "    final_preds = predict(rbm_preds,input_0)\n",
    "    \n",
    "    return final_preds"
   ]
  },
  {
   "cell_type": "code",
   "execution_count": 9,
   "metadata": {},
   "outputs": [],
   "source": [
    "def new_user(test_rf,input_0):\n",
    "    \n",
    "    # Testing Random Forest Classifiers for each product\n",
    "    df_test = []\n",
    "    for ind, var in enumerate(target_var):\n",
    "        df_test.append((clf[ind].predict_proba(test_rf)))  \n",
    "        \n",
    "    a = np.array(df_test).T\n",
    "    t1 = pd.DataFrame(a[1],columns=target_var)\n",
    "    t1 = pd.DataFrame(np.where(t1.T == t1.T.max(), 1, -1),index=t1.columns).T\n",
    "    test_rbm = np.array(t1)\n",
    "    test_rbm = np.reshape(test_rbm, (-1,24,1))\n",
    "    test_rbm = torch.FloatTensor(test_rbm)\n",
    "    \n",
    "    rbm_preds = rbm_model(rbm,test_rbm)\n",
    "    final_preds = predict(rbm_preds,input_0)\n",
    "    \n",
    "    return final_preds"
   ]
  },
  {
   "cell_type": "code",
   "execution_count": 10,
   "metadata": {},
   "outputs": [],
   "source": [
    "def rbm_model(rbm,test_rbm):\n",
    "    nv = 24\n",
    "    nh = 1000\n",
    "    r = 1   # No. of star ratings\n",
    "    k1 = 1\n",
    "\n",
    "    vk = test_rbm\n",
    "    for k in range(k1):\n",
    "        _,hk = rbm.sample_h(vk)\n",
    "        vk_orig,vk = rbm.sample_v(hk)\n",
    "    phk,_ = rbm.sample_h(vk)\n",
    "    rbm_preds = vk_orig.numpy()\n",
    "    \n",
    "    return rbm_preds"
   ]
  },
  {
   "cell_type": "code",
   "execution_count": 11,
   "metadata": {},
   "outputs": [],
   "source": [
    "def predict(rbm_preds,input_0,k=3):\n",
    "    \n",
    "    a = np.array(np.reshape(rbm_preds,(-1,24)))\n",
    "    a = pd.DataFrame(a,columns=tar_var_sp)\n",
    "    t = input_0['Customer_ID']\n",
    "    pred = pd.concat([t, a],axis=1)\n",
    "    pred.columns = ['Customer_ID','Saving_account','Guarantees','Cur_account','Derivative_account','Payroll_account','Junior_account','Particular_acct1',\n",
    "              'Particular_acct2','Particular_acct3','Short_term_deposites','Med_term_deposites','Long_term_deposites','e-account', \n",
    "              'Funds','Mortgage','Pension','Loans','Taxes','Credit_card','Securities','Home_account','Payroll','Pensions','Direct_debit']\n",
    "    o = pred[pred.columns[1:]].sort_values(pred[pred.columns[1:]].last_valid_index(),axis=1, ascending=False, inplace=False, kind='quicksort', na_position='last').T\n",
    "    p = pd.DataFrame(pred[pred.columns[0]],columns = ['Customer_ID'])\n",
    "    q = pd.DataFrame(o.index[0:k],columns = ['Product Recommended'])\n",
    "    final_pred = pd.concat([p,q],axis=1)\n",
    "    \n",
    "    return o,final_pred"
   ]
  },
  {
   "cell_type": "code",
   "execution_count": 12,
   "metadata": {},
   "outputs": [
    {
     "name": "stdout",
     "output_type": "stream",
     "text": [
      "Old User\n"
     ]
    },
    {
     "data": {
      "text/html": [
       "<div>\n",
       "<style scoped>\n",
       "    .dataframe tbody tr th:only-of-type {\n",
       "        vertical-align: middle;\n",
       "    }\n",
       "\n",
       "    .dataframe tbody tr th {\n",
       "        vertical-align: top;\n",
       "    }\n",
       "\n",
       "    .dataframe thead th {\n",
       "        text-align: right;\n",
       "    }\n",
       "</style>\n",
       "<table border=\"1\" class=\"dataframe\">\n",
       "  <thead>\n",
       "    <tr style=\"text-align: right;\">\n",
       "      <th></th>\n",
       "      <th>Customer_ID</th>\n",
       "      <th>Product Recommended</th>\n",
       "    </tr>\n",
       "  </thead>\n",
       "  <tbody>\n",
       "    <tr>\n",
       "      <th>0</th>\n",
       "      <td>445537.0</td>\n",
       "      <td>Cur_account</td>\n",
       "    </tr>\n",
       "    <tr>\n",
       "      <th>1</th>\n",
       "      <td>NaN</td>\n",
       "      <td>Particular_acct2</td>\n",
       "    </tr>\n",
       "    <tr>\n",
       "      <th>2</th>\n",
       "      <td>NaN</td>\n",
       "      <td>Payroll_account</td>\n",
       "    </tr>\n",
       "  </tbody>\n",
       "</table>\n",
       "</div>"
      ],
      "text/plain": [
       "   Customer_ID Product Recommended\n",
       "0     445537.0         Cur_account\n",
       "1          NaN    Particular_acct2\n",
       "2          NaN     Payroll_account"
      ]
     },
     "execution_count": 12,
     "metadata": {},
     "output_type": "execute_result"
    }
   ],
   "source": [
    "input_0 = pd.DataFrame([['28-06-2015',445537,'N','ES','V',44,'19-11-2003','0','140','1','','1','I','S','N','','KEY','N','1','26','RIOJA, LA','1','70910.25','02 - PARTICULARES']])\n",
    "\n",
    "q,recommendation = user_data(input_0)\n",
    "recommendation"
   ]
  },
  {
   "cell_type": "code",
   "execution_count": 13,
   "metadata": {},
   "outputs": [
    {
     "data": {
      "text/html": [
       "<div>\n",
       "<style scoped>\n",
       "    .dataframe tbody tr th:only-of-type {\n",
       "        vertical-align: middle;\n",
       "    }\n",
       "\n",
       "    .dataframe tbody tr th {\n",
       "        vertical-align: top;\n",
       "    }\n",
       "\n",
       "    .dataframe thead th {\n",
       "        text-align: right;\n",
       "    }\n",
       "</style>\n",
       "<table border=\"1\" class=\"dataframe\">\n",
       "  <thead>\n",
       "    <tr style=\"text-align: right;\">\n",
       "      <th></th>\n",
       "      <th>0</th>\n",
       "      <th>1</th>\n",
       "    </tr>\n",
       "  </thead>\n",
       "  <tbody>\n",
       "    <tr>\n",
       "      <th>Cur_account</th>\n",
       "      <td>1.000000</td>\n",
       "      <td>1.000000</td>\n",
       "    </tr>\n",
       "    <tr>\n",
       "      <th>Particular_acct2</th>\n",
       "      <td>0.999976</td>\n",
       "      <td>0.999818</td>\n",
       "    </tr>\n",
       "    <tr>\n",
       "      <th>Payroll_account</th>\n",
       "      <td>0.999271</td>\n",
       "      <td>0.999632</td>\n",
       "    </tr>\n",
       "    <tr>\n",
       "      <th>Long_term_deposites</th>\n",
       "      <td>0.925443</td>\n",
       "      <td>0.995902</td>\n",
       "    </tr>\n",
       "    <tr>\n",
       "      <th>Payroll</th>\n",
       "      <td>0.991127</td>\n",
       "      <td>0.995719</td>\n",
       "    </tr>\n",
       "  </tbody>\n",
       "</table>\n",
       "</div>"
      ],
      "text/plain": [
       "                            0         1\n",
       "Cur_account          1.000000  1.000000\n",
       "Particular_acct2     0.999976  0.999818\n",
       "Payroll_account      0.999271  0.999632\n",
       "Long_term_deposites  0.925443  0.995902\n",
       "Payroll              0.991127  0.995719"
      ]
     },
     "execution_count": 13,
     "metadata": {},
     "output_type": "execute_result"
    }
   ],
   "source": [
    "q.head()"
   ]
  },
  {
   "cell_type": "code",
   "execution_count": null,
   "metadata": {},
   "outputs": [],
   "source": [
    "##########################################################################################################################"
   ]
  }
 ],
 "metadata": {
  "kernelspec": {
   "display_name": "Python 3",
   "language": "python",
   "name": "python3"
  },
  "language_info": {
   "codemirror_mode": {
    "name": "ipython",
    "version": 3
   },
   "file_extension": ".py",
   "mimetype": "text/x-python",
   "name": "python",
   "nbconvert_exporter": "python",
   "pygments_lexer": "ipython3",
   "version": "3.6.10"
  }
 },
 "nbformat": 4,
 "nbformat_minor": 4
}
