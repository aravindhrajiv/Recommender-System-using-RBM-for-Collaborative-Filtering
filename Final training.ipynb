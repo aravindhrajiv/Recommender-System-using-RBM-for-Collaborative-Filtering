{
 "cells": [
  {
   "cell_type": "code",
   "execution_count": 1,
   "metadata": {},
   "outputs": [],
   "source": [
    "import numpy as np\n",
    "import pandas as pd\n",
    "from pandas.api.types import CategoricalDtype\n",
    "import os\n",
    "import json\n",
    "import pickle\n",
    "import matplotlib.pyplot as plt\n",
    "\n",
    "from sklearn import preprocessing\n",
    "from sklearn.metrics import precision_score, recall_score, f1_score\n",
    "from sklearn.model_selection import train_test_split\n",
    "from sklearn.ensemble import RandomForestClassifier\n",
    "\n",
    "import torch\n",
    "import torch.nn as nn\n",
    "import torch.nn.parallel\n",
    "import torch.nn.functional as F\n",
    "import torch.optim as optim\n",
    "import torch.utils.data as tud\n",
    "from torch.autograd import Variable\n",
    "\n",
    "import seaborn as sns\n",
    "import warnings\n",
    "warnings.filterwarnings(\"ignore\")"
   ]
  },
  {
   "cell_type": "code",
   "execution_count": 2,
   "metadata": {},
   "outputs": [],
   "source": [
    "# 24 products and Customer code \n",
    "dtype_list = {'fecha_dato': 'object', 'ncodpers': 'int64', 'ind_empleado': 'str','pais_residencia':'str', 'sexo':'str', 'age': 'int64', 'fecha_alta': 'object',\n",
    "                'ind_nuevo': 'str', 'antiguedad':'int64', 'indrel': 'int32','ult_fec_cli_1t': 'object','indrel_1mes': 'int32', 'tiprel_1mes':'str','indresi': 'str',\n",
    "                'indext': 'str','conyuemp': 'str', 'canal_entrada':'str','indfall': 'str','tipodom':'int32', 'cod_prov':'int64','nomprov': 'str','ind_actividad_cliente': 'int32',\n",
    "                'renta': 'float64', 'segmento' :'str','ind_cco_fin_ult1': 'int16', 'ind_deme_fin_ult1': 'int16', 'ind_aval_fin_ult1': 'int16', 'ind_valo_fin_ult1': 'int16', \n",
    "                'ind_reca_fin_ult1': 'int16', 'ind_ctju_fin_ult1': 'int16','ind_cder_fin_ult1': 'int16', 'ind_plan_fin_ult1': 'int16', 'ind_fond_fin_ult1': 'int16',\n",
    "                'ind_hip_fin_ult1': 'int16', 'ind_pres_fin_ult1': 'int16', 'ind_nomina_ult1': 'int16', 'ind_cno_fin_ult1': 'int16','ind_ctpp_fin_ult1': 'int16', \n",
    "                'ind_ahor_fin_ult1': 'int16', 'ind_dela_fin_ult1': 'int16', 'ind_ecue_fin_ult1': 'int16', 'ind_nom_pens_ult1': 'int16', 'ind_recibo_ult1': 'int16', \n",
    "                'ind_deco_fin_ult1': 'int16', 'ind_tjcr_fin_ult1': 'int16', 'ind_ctop_fin_ult1': 'int16', 'ind_viv_fin_ult1': 'int16', 'ind_ctma_fin_ult1': 'int16'}"
   ]
  },
  {
   "cell_type": "code",
   "execution_count": 3,
   "metadata": {},
   "outputs": [],
   "source": [
    "train_0 = pd.read_csv(\"Dataset/reference_sample_001.csv\",header = None,dtype = dtype_list,na_values = 'NA')\n",
    "train_0.columns = ['Month_status_date', 'Customer_ID', 'Employee_Index', 'Customer_country', 'Sex', 'Age', 'Join_date',\n",
    "                'New_customer', 'Relnshp_Mnths', 'Relnshp_flag','Last_date_Prim_Cust', 'Cust_type_beg_Mth', 'Cust_Reln_type_beg_mth',\n",
    "                'Residence_flag', 'Foreigner_flag', 'Emp_spouse_flag', 'Channel_when_joined', 'Deceased_flag', \n",
    "                'Address_type', 'Customer_address', 'Address_detail', 'Activity_flag', 'Gross_household_income',\n",
    "                'Segment', 'Saving_account', 'Guarantees', 'Cur_account', 'Derivative_account', 'Payroll_account',\n",
    "                'Junior_account', 'Particular_acct1', 'Particular_acct2', 'Particular_acct3', 'Short_term_deposites',\n",
    "                'Med_term_deposites', 'Long_term_deposites', 'e-account', 'Funds', 'Mortgage', 'Pension', 'Loans',\n",
    "                'Taxes', 'Credit_card', 'Securities', 'Home_account', 'Payroll', 'Pensions', 'Direct_debit']"
   ]
  },
  {
   "cell_type": "code",
   "execution_count": 4,
   "metadata": {},
   "outputs": [],
   "source": [
    "train_1= train_0[1:]"
   ]
  },
  {
   "cell_type": "code",
   "execution_count": 5,
   "metadata": {},
   "outputs": [],
   "source": [
    "unique_var = ['Customer_ID']\n",
    "cont_var = ['Age','Relnshp_Mnths','Gross_household_income']\n",
    "cate_var = ['Employee_Index','Sex','New_customer','Relnshp_flag','Cust_type_beg_Mth','Cust_Reln_type_beg_mth','Residence_flag',\n",
    "            'Foreigner_flag','Emp_spouse_flag','Deceased_flag','Address_type','Activity_flag','Segment']\n",
    "target_var = ['Saving_account','Guarantees','Cur_account','Derivative_account','Payroll_account','Junior_account','Particular_acct1',\n",
    "              'Particular_acct2','Particular_acct3','Short_term_deposites','Med_term_deposites','Long_term_deposites','e-account', \n",
    "              'Funds','Mortgage','Pension','Loans','Taxes','Credit_card','Securities','Home_account','Payroll','Pensions','Direct_debit']\n",
    "cate_var_date = ['Month_status_date','Join_date','Last_date_Prim_Cust']\n",
    "cate_var_big = ['Customer_country','Channel_when_joined','Customer_address','Address_detail',]\n",
    "cate_var_int = ['New_customer','Relnshp_flag','Activity_flag','Address_type']"
   ]
  },
  {
   "cell_type": "code",
   "execution_count": 6,
   "metadata": {},
   "outputs": [],
   "source": [
    "for ind_, var_ in enumerate(cont_var):\n",
    "    train_1[var_] = pd.to_numeric(train_1[var_],errors='coerce')"
   ]
  },
  {
   "cell_type": "code",
   "execution_count": 7,
   "metadata": {},
   "outputs": [],
   "source": [
    "# Missing values for continuous variable - Train\n",
    "for ind,var in enumerate(cont_var):\n",
    "    train_1[var] = train_1[var].replace(to_replace = ['NA',' NA','         NA',-999999], value = np.nan)\n",
    "    train_1[var].fillna(pd.to_numeric(train_1[var],errors='coerce').dropna().mean(),inplace=True)\n",
    "\n",
    "# Missing values for categorical variable - Train\n",
    "for ind,var in enumerate(cate_var):\n",
    "    train_1[var] = train_1[var].replace(to_replace = ['NA',' NA','     NA'], value = np.nan)\n",
    "    train_1[var].fillna(train_1[var].value_counts().index[0],inplace=True)\n",
    "    \n",
    "for ind,var in enumerate(cate_var_big):\n",
    "    train_1[var] = train_1[var].replace(to_replace = ['NA',' NA','     NA'], value = np.nan)\n",
    "    train_1[var].fillna(train_1[var].value_counts().index[0],inplace=True)\n",
    "    \n",
    "for ind,var in enumerate(target_var):\n",
    "    train_1[var] = train_1[var].replace(to_replace = ['NA',' NA','     NA'], value = np.nan)\n",
    "    train_1[var].fillna(train_1[var].value_counts().index[0],inplace=True)\n",
    "    \n",
    "for ind,var in enumerate(cate_var_date):\n",
    "    train_1[var] = train_1[var].replace(to_replace = ['NA',' NA','     NA'], value = np.nan)\n",
    "    train_1[var].fillna(train_1[var].value_counts().index[0],inplace=True)"
   ]
  },
  {
   "cell_type": "code",
   "execution_count": 8,
   "metadata": {},
   "outputs": [],
   "source": [
    "for ind, var in enumerate(cate_var_int): \n",
    "    train_1[var] = train_1[var].astype(float).astype(int)\n",
    "for ind, var in enumerate(target_var):\n",
    "    train_1[var] = train_1[var].astype(int)"
   ]
  },
  {
   "cell_type": "code",
   "execution_count": 9,
   "metadata": {},
   "outputs": [],
   "source": [
    "###############################################################################"
   ]
  },
  {
   "cell_type": "code",
   "execution_count": 10,
   "metadata": {},
   "outputs": [],
   "source": [
    "str_ = ['Employee_Index','Customer_country','Sex','New_customer','Relnshp_flag','Cust_type_beg_Mth','Cust_Reln_type_beg_mth','Residence_flag','Foreigner_flag', 'Emp_spouse_flag', 'Channel_when_joined','Address_type','Deceased_flag','Customer_address','Address_detail','Activity_flag','Segment']\n",
    "# string to categorical\n",
    "train_1[str_] = train_1[str_].astype('category')\n",
    "# Dropping Data columns\n",
    "train_1.drop(columns=cate_var_date,inplace=True)"
   ]
  },
  {
   "cell_type": "code",
   "execution_count": 11,
   "metadata": {},
   "outputs": [],
   "source": [
    "le = preprocessing.OneHotEncoder(sparse=False)\n",
    "for column_name in str_:\n",
    "    train_1[column_name] = le.fit_transform(np.array(train_1[column_name].astype(str)).reshape(-1,1)).astype(float)"
   ]
  },
  {
   "cell_type": "code",
   "execution_count": 12,
   "metadata": {},
   "outputs": [],
   "source": [
    "train_rf,test_rf = train_test_split(train_1, test_size = 0.2)"
   ]
  },
  {
   "cell_type": "code",
   "execution_count": 14,
   "metadata": {},
   "outputs": [],
   "source": [
    "# Creating Random Forest Classifiers for each product\n",
    "df_train = []\n",
    "precision_train = []\n",
    "recall_train =[]\n",
    "f1_score_train = []\n",
    "#shutil.rmtree(\"Trained Model\")   # To delete already created folder\n",
    "if os.path.exists(\"Trained Model\") is False:\n",
    "    os.mkdir(\"Trained Model\")\n",
    "    os.mkdir(\"Trained Model/Random Forest_trial\")\n",
    "        \n",
    "for ind, var in enumerate(target_var):\n",
    "    clf = RandomForestClassifier(n_jobs=2, random_state=0)\n",
    "    # Training the classifier\n",
    "    clf.fit(train_rf[train_rf.columns[1:20]],train_rf[var])\n",
    "    # Saving the classifier                                    # create folder\n",
    "    with open('Trained Model/Random Forest_trial/'+str(var),'wb') as f:\n",
    "        pickle.dump(clf,f)\n",
    "    \n",
    "    df_train.append((clf.predict(train_rf[train_rf.columns[1:20]])))\n",
    "    precision_train.append( precision_score(train_rf[var],clf.predict(train_rf[train_rf.columns[1:20]])) )\n",
    "    recall_train.append( recall_score(train_rf[var],clf.predict(train_rf[train_rf.columns[0:20]])) )\n",
    "    f1_score_train.append( f1_score(train_rf[var],clf.predict(train_rf[train_rf.columns[0:20]])) )"
   ]
  },
  {
   "cell_type": "code",
   "execution_count": null,
   "metadata": {},
   "outputs": [],
   "source": [
    "# Testing SVM Classifiers for each product\n",
    "df_test = []\n",
    "precision_test = []\n",
    "recall_test =[]\n",
    "f1_score_test = []\n",
    "\n",
    "for ind, var in enumerate(target_var):\n",
    "    # Loading the classifier\n",
    "    clf_1 = pickle.load(open('Trained Model/Random Forest_trial_1/'+str(var), 'rb'))\n",
    "    \n",
    "    df_test.append((clf_1.predict(test_rf[test_rf.columns[1:21]])))\n",
    "    precision_test.append( precision_score(test_rf[var],clf_1.predict(test_rf[test_rf.columns[1:21]])) )\n",
    "    recall_test.append( recall_score(test_rf[var],clf_1.predict(test_rf[test_rf.columns[1:21]])) )\n",
    "    f1_score_test.append( f1_score(test_rf[var],clf_1.predict(test_rf[test_rf.columns[1:21]])) )"
   ]
  },
  {
   "cell_type": "code",
   "execution_count": 17,
   "metadata": {},
   "outputs": [],
   "source": [
    "t1 = pd.DataFrame(np.array(precision_train),columns=['Precision_Train'])\n",
    "t1['Recall_Train'] = pd.DataFrame(np.array(recall_train))\n",
    "t1['F1_score_Train'] = pd.DataFrame(np.array(f1_score_train))\n",
    "t1['Precision_Test'] = pd.DataFrame(np.array(precision_test))\n",
    "t1['Recall_Test'] = pd.DataFrame(np.array(recall_test))\n",
    "t1['F1_score_Test'] = pd.DataFrame(np.array(f1_score_test))\n",
    "\n",
    "print(\"random forest generation completed.\")\n",
    "t1.to_csv('Random Forest_trial.csv')\n",
    "print(\"wrtitng confusion matrix completed...\")"
   ]
  },
  {
   "cell_type": "code",
   "execution_count": 18,
   "metadata": {},
   "outputs": [],
   "source": [
    "train_2 = train_1[train_1.columns[21:]]\n",
    "train_rbm = np.array(train_2)\n",
    "train_rbm = np.reshape(train_rbm, (127110,24,1))\n",
    "train_rbm,test_rbm = train_test_split(train_rbm, test_size = 0.2)\n",
    "train_rbm = torch.FloatTensor(train_rbm)\n",
    "test_rbm = torch.FloatTensor(test_rbm)"
   ]
  },
  {
   "cell_type": "code",
   "execution_count": 22,
   "metadata": {},
   "outputs": [
    {
     "name": "stdout",
     "output_type": "stream",
     "text": [
      "torch.Size([25422, 24, 1])\n"
     ]
    }
   ],
   "source": [
    "print(train_rbm.size())\n",
    "print(test_rbm.size())"
   ]
  },
  {
   "cell_type": "code",
   "execution_count": 53,
   "metadata": {},
   "outputs": [],
   "source": [
    "# RBM Modelling\n",
    "\n",
    "class RBM():\n",
    "    def __init__(self, nv, nh, r):\n",
    "        self.W = torch.randn(r, nh, nv)*0.1\n",
    "        self.a = torch.randn(1,1,nh)*0.01\n",
    "        self.b = torch.randn(1,1,nv)*0.01\n",
    "        \n",
    "    def sample_h(self,x):\n",
    "        wx = torch.matmul(x.permute(2,0,1), self.W.permute(0,2,1))\n",
    "        activation = wx + self.a.expand_as(wx)\n",
    "        p = torch.sigmoid(activation)\n",
    "        return p, p.bernoulli()\n",
    "\n",
    "    def sample_v(self,y):\n",
    "        wy = torch.matmul(y, self.W)\n",
    "        activation = wy + self.b.expand_as(wy)\n",
    "        p = torch.sigmoid(activation.permute(1,2,0))\n",
    "        return p, p.bernoulli()\n",
    "    \n",
    "    def train_rbm_fn(self,v0,vk,ph0,phk,batch_size,learning_rate = 0.00001):\n",
    "        self.W += learning_rate * (torch.matmul(v0.permute(2,1,0),ph0) - torch.matmul(vk.permute(2,1,0), phk)).permute(0,2,1)/ batch_size\n",
    "        self.b += learning_rate * torch.sum(torch.sum((v0-vk).permute(2,0,1),1),0)/ batch_size\n",
    "        self.a += learning_rate * torch.sum(torch.sum((ph0-phk),1),0)/ batch_size\n",
    "    \n",
    "    def free_energy(self, v):\n",
    "        v_term = -torch.sum(torch.matmul(v.permute(2,0,1), self.b.permute(0,2,1)),dim=0)\n",
    "        wx = torch.matmul(v.permute(2,0,1), self.W.permute(0,2,1))\n",
    "        w_x_h = wx + self.a.expand_as(wx)\n",
    "        h_term = -torch.sum(torch.sum(F.softplus(w_x_h),dim=2),dim=0)\n",
    "        fe = torch.mean((h_term+v_term))\n",
    "        return fe"
   ]
  },
  {
   "cell_type": "code",
   "execution_count": 54,
   "metadata": {},
   "outputs": [
    {
     "name": "stdout",
     "output_type": "stream",
     "text": [
      "epoch: 0 loss: 0.284191781338524\n",
      "epoch: 1 loss: 0.2543402700862232\n",
      "epoch: 2 loss: 0.25100353176418133\n",
      "epoch: 3 loss: 0.2472096645019028\n",
      "epoch: 4 loss: 0.24487300598105463\n",
      "epoch: 5 loss: 0.24156759077577028\n",
      "epoch: 6 loss: 0.23886406083804035\n",
      "epoch: 7 loss: 0.23572777851149415\n",
      "epoch: 8 loss: 0.23303771470193893\n",
      "epoch: 9 loss: 0.22989574094181844\n",
      "epoch: 10 loss: 0.22774465685063536\n",
      "epoch: 11 loss: 0.22531836782896633\n",
      "epoch: 12 loss: 0.22293330860044186\n",
      "epoch: 13 loss: 0.2210459019029971\n",
      "epoch: 14 loss: 0.21871787250236188\n",
      "epoch: 15 loss: 0.21728712999050692\n",
      "epoch: 16 loss: 0.21531145395723056\n",
      "epoch: 17 loss: 0.2134453099337078\n",
      "epoch: 18 loss: 0.21187165354825235\n",
      "epoch: 19 loss: 0.2102353970990038\n",
      "epoch: 20 loss: 0.20903294269206607\n",
      "epoch: 21 loss: 0.20785018096025545\n",
      "epoch: 22 loss: 0.20684056171162424\n",
      "epoch: 23 loss: 0.2053599045955035\n",
      "epoch: 24 loss: 0.2041045843232423\n",
      "epoch: 25 loss: 0.20348101692266832\n",
      "epoch: 26 loss: 0.2021001987034315\n",
      "epoch: 27 loss: 0.2016456711603736\n",
      "epoch: 28 loss: 0.20031428674850862\n",
      "epoch: 29 loss: 0.19947663826260065\n",
      "epoch: 30 loss: 0.1988941955516798\n",
      "epoch: 31 loss: 0.19818119114305172\n",
      "epoch: 32 loss: 0.197703531731561\n",
      "epoch: 33 loss: 0.19719115686871616\n",
      "epoch: 34 loss: 0.19643302940569715\n",
      "epoch: 35 loss: 0.19587644642017427\n",
      "epoch: 36 loss: 0.1953348833645576\n",
      "epoch: 37 loss: 0.19515833419793416\n",
      "epoch: 38 loss: 0.19396276602380075\n",
      "epoch: 39 loss: 0.19392952194113205\n"
     ]
    }
   ],
   "source": [
    "nv = 24\n",
    "nh = 1000\n",
    "r = 1   # No. of star ratings\n",
    "rbm = RBM(nv,nh,r)\n",
    "batch_size = 1\n",
    "k1 = 1\n",
    "\n",
    "nb_epoch = 80\n",
    "no_users = len(train_rbm)\n",
    "errors_train = []\n",
    "energy_train = []\n",
    "energy_valid = []\n",
    "\n",
    "for epoch in range(0,nb_epoch):\n",
    "    train_loss = 0\n",
    "    s = 0.\n",
    "    for id_user in range(0,no_users,batch_size):\n",
    "        vk = train_rbm[id_user:id_user+batch_size]\n",
    "        v0 = train_rbm[id_user:id_user+batch_size]\n",
    "        ph0,_ = rbm.sample_h(v0)\n",
    "        for k in range(k1):\n",
    "            _,hk = rbm.sample_h(vk)\n",
    "            _,vk = rbm.sample_v(hk)\n",
    "            vk[v0<=0] = v0[v0<=0]\n",
    "            \n",
    "        phk,_ = rbm.sample_h(vk)\n",
    "        rbm.train_rbm_fn(v0,vk,ph0,phk,batch_size)\n",
    "        train_loss += torch.mean((v0[v0>0] - vk[v0>0])**2)\n",
    "        s += 1.\n",
    "    etrain = torch.mean(rbm.free_energy(train_rbm))\n",
    "    energy_train.append(etrain.item())\n",
    "    etest = torch.mean(rbm.free_energy(test_rbm))\n",
    "    energy_test.append(etest.item())\n",
    "    errors_train.append((train_loss.item()/s)**0.5)\n",
    "    if(epoch%1 == 0):\n",
    "        print('epoch: '+str(epoch)+' loss: '+str((train_loss.item()/s)**0.5))"
   ]
  },
  {
   "cell_type": "code",
   "execution_count": 55,
   "metadata": {},
   "outputs": [
    {
     "data": {
      "text/plain": [
       "Text(0, 0.5, 'Error')"
      ]
     },
     "execution_count": 55,
     "metadata": {},
     "output_type": "execute_result"
    },
    {
     "data": {
      "image/png": "[encoded data removed]",
      "text/plain": [
       "<Figure size 432x288 with 1 Axes>"
      ]
     },
     "metadata": {
      "needs_background": "light"
     },
     "output_type": "display_data"
    }
   ],
   "source": [
    "fig, ax = plt.subplots()\n",
    "ax.plot(errors_train, label='train')\n",
    "#ax.plot(errors_test, label='test')\n",
    "leg = ax.legend()\n",
    "plt.xlabel(\"Epoch\")\n",
    "plt.ylabel(\"Error\")"
   ]
  },
  {
   "cell_type": "code",
   "execution_count": 59,
   "metadata": {},
   "outputs": [
    {
     "data": {
      "text/plain": [
       "Text(0, 0.5, 'Free Energy')"
      ]
     },
     "execution_count": 59,
     "metadata": {},
     "output_type": "execute_result"
    },
    {
     "data": {
      "image/png": "[encoded data removed]",
      "text/plain": [
       "<Figure size 432x288 with 1 Axes>"
      ]
     },
     "metadata": {
      "needs_background": "light"
     },
     "output_type": "display_data"
    }
   ],
   "source": [
    "fig, ax = plt.subplots()\n",
    "ax.plot(energy_train, label='train')\n",
    "ax.plot(energy_test, label='test')\n",
    "leg = ax.legend()\n",
    "plt.xlabel(\"Epoch\")\n",
    "plt.ylabel(\"Free Energy\")"
   ]
  },
  {
   "cell_type": "code",
   "execution_count": null,
   "metadata": {},
   "outputs": [],
   "source": []
  }
 ],
 "metadata": {
  "kernelspec": {
   "display_name": "Python 3",
   "language": "python",
   "name": "python3"
  },
  "language_info": {
   "codemirror_mode": {
    "name": "ipython",
    "version": 3
   },
   "file_extension": ".py",
   "mimetype": "text/x-python",
   "name": "python",
   "nbconvert_exporter": "python",
   "pygments_lexer": "ipython3",
   "version": "3.6.10"
  }
 },
 "nbformat": 4,
 "nbformat_minor": 4
}
